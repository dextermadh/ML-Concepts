{
 "cells": [
  {
   "cell_type": "code",
   "execution_count": 7,
   "id": "e1f0b270-8821-4882-8bd0-4bf11ff024c5",
   "metadata": {},
   "outputs": [],
   "source": [
    "import pandas as pd \n",
    "import numpy as np\n",
    "import matplotlib.pyplot as plt\n",
    "%matplotlib inline \n",
    "plt.rcParams['figure.figsize'] = (10, 6)"
   ]
  },
  {
   "cell_type": "code",
   "execution_count": 8,
   "id": "568aa832-90b2-4316-b407-2de0b5cb98ea",
   "metadata": {},
   "outputs": [],
   "source": [
    "def gradient_descent(x, y):\n",
    "    m_curr = b_curr = 0\n",
    "    \n"
   ]
  },
  {
   "cell_type": "code",
   "execution_count": 9,
   "id": "f0c310f6-d3ea-472d-80df-999c729ec111",
   "metadata": {},
   "outputs": [],
   "source": [
    "x = np.array([1,2,3,4,5]) \n",
    "y = np.array([5,7,9,11,13])"
   ]
  },
  {
   "cell_type": "code",
   "execution_count": 10,
   "id": "71e50715-259e-4f2c-9cf4-e9b53cfb3f83",
   "metadata": {},
   "outputs": [],
   "source": [
    "gradient_descent(x,y)"
   ]
  },
  {
   "cell_type": "code",
   "execution_count": null,
   "id": "4bcb7edf-5d9f-40d0-bb2c-a47277b9da9c",
   "metadata": {},
   "outputs": [],
   "source": []
  }
 ],
 "metadata": {
  "kernelspec": {
   "display_name": "Python 3 (ipykernel)",
   "language": "python",
   "name": "python3"
  },
  "language_info": {
   "codemirror_mode": {
    "name": "ipython",
    "version": 3
   },
   "file_extension": ".py",
   "mimetype": "text/x-python",
   "name": "python",
   "nbconvert_exporter": "python",
   "pygments_lexer": "ipython3",
   "version": "3.12.9"
  }
 },
 "nbformat": 4,
 "nbformat_minor": 5
}
