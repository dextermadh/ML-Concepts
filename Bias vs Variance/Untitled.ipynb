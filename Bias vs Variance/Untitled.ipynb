{
 "cells": [
  {
   "cell_type": "code",
   "execution_count": 1,
   "id": "f3fe0308-f142-4020-bbfb-9df76c6e4d80",
   "metadata": {},
   "outputs": [],
   "source": [
    "import numpy as np \n",
    "import pandas as pd \n",
    "import matplotlib.pyplot as plt \n",
    "%matplotlib inline "
   ]
  },
  {
   "cell_type": "code",
   "execution_count": 3,
   "id": "266c0689-cc7e-4165-9cfe-863d2b0c9e2b",
   "metadata": {},
   "outputs": [],
   "source": [
    "# bias is a measuremnet of how accurately a model can capture a pattern in a training dataset\n",
    "# bias is related to train error and variance is related to test error "
   ]
  },
  {
   "cell_type": "code",
   "execution_count": null,
   "id": "42de3d45-56a2-4dbc-a5d7-1233d560ad1a",
   "metadata": {},
   "outputs": [],
   "source": []
  }
 ],
 "metadata": {
  "kernelspec": {
   "display_name": "Python 3 (ipykernel)",
   "language": "python",
   "name": "python3"
  },
  "language_info": {
   "codemirror_mode": {
    "name": "ipython",
    "version": 3
   },
   "file_extension": ".py",
   "mimetype": "text/x-python",
   "name": "python",
   "nbconvert_exporter": "python",
   "pygments_lexer": "ipython3",
   "version": "3.12.10"
  }
 },
 "nbformat": 4,
 "nbformat_minor": 5
}
